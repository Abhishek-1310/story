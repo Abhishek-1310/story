{
 "cells": [
  {
   "cell_type": "code",
   "execution_count": 1,
   "id": "83b24ded-c1fb-415a-8616-49d5e362b51f",
   "metadata": {},
   "outputs": [],
   "source": [
    "import requests\n",
    "from bs4 import BeautifulSoup as bs\n",
    "from urllib.request import urlopen as uReq\n",
    "import logging"
   ]
  },
  {
   "cell_type": "code",
   "execution_count": 100,
   "id": "b5c41cb8-1ca9-4064-a228-e927574c40ad",
   "metadata": {},
   "outputs": [],
   "source": [
    "base_url=\"https://www.flipkart.com/search?q=\"+\"iphone14pro\""
   ]
  },
  {
   "cell_type": "code",
   "execution_count": 101,
   "id": "02cc9b10-3d49-431f-b85c-a749a182e45a",
   "metadata": {},
   "outputs": [
    {
     "data": {
      "text/plain": [
       "'https://www.flipkart.com/search?q=iphone14pro'"
      ]
     },
     "execution_count": 101,
     "metadata": {},
     "output_type": "execute_result"
    }
   ],
   "source": [
    "base_url"
   ]
  },
  {
   "cell_type": "code",
   "execution_count": 102,
   "id": "5dc7a915-6e4d-445e-a34e-076bed126b68",
   "metadata": {},
   "outputs": [],
   "source": [
    "urlOpen=uReq(base_url)"
   ]
  },
  {
   "cell_type": "code",
   "execution_count": 103,
   "id": "06bbf9c9-b82d-4893-b841-45817f18b7a2",
   "metadata": {},
   "outputs": [],
   "source": [
    "data=urlOpen.read()"
   ]
  },
  {
   "cell_type": "code",
   "execution_count": 104,
   "id": "1641752b-a23d-417d-abb0-75a9c2e4b00d",
   "metadata": {},
   "outputs": [],
   "source": [
    "Bdata=bs(data,\"html.parser\")"
   ]
  },
  {
   "cell_type": "markdown",
   "id": "04603d47-da55-4e94-9401-0b2be6dca74b",
   "metadata": {},
   "source": [
    "Bdata"
   ]
  },
  {
   "cell_type": "code",
   "execution_count": 105,
   "id": "82c4f942-c1e9-4ede-8cf2-972e2bdeb367",
   "metadata": {},
   "outputs": [],
   "source": [
    "bigBox=Bdata.findAll(\"div\",{\"class\":\"_1AtVbE col-12-12\"})"
   ]
  },
  {
   "cell_type": "code",
   "execution_count": 106,
   "id": "fa150dfb-3cc1-4b30-9862-61e670f54d0e",
   "metadata": {},
   "outputs": [
    {
     "data": {
      "text/plain": [
       "29"
      ]
     },
     "execution_count": 106,
     "metadata": {},
     "output_type": "execute_result"
    }
   ],
   "source": [
    "len(bigBox)"
   ]
  },
  {
   "cell_type": "code",
   "execution_count": 107,
   "id": "ace98ec9-f506-4fc0-b644-0313d66abf4b",
   "metadata": {},
   "outputs": [],
   "source": [
    "pdata=bigBox[3].div.div.div.a['href']"
   ]
  },
  {
   "cell_type": "code",
   "execution_count": 108,
   "id": "2319f334-5ca8-434e-bd33-e55e63dd6252",
   "metadata": {},
   "outputs": [],
   "source": [
    "pdtlink=\"https://www.flipkart.com\"+pdata"
   ]
  },
  {
   "cell_type": "code",
   "execution_count": 109,
   "id": "8fdd1344-40a7-4a4a-9790-26a5623ad5c2",
   "metadata": {},
   "outputs": [
    {
     "data": {
      "text/plain": [
       "'https://www.flipkart.com/apple-iphone-14-pro-space-black-128-gb/p/itm6e6711f2982c8?pid=MOBGHWFHZBHSYBBW&lid=LSTMOBGHWFHZBHSYBBWZRMCHS&marketplace=FLIPKART&q=iphone14pro&store=tyy%2F4io&srno=s_1_2&otracker=search&fm=organic&iid=be6b4d11-524a-42e9-882a-bb672746c7df.MOBGHWFHZBHSYBBW.SEARCH&ppt=None&ppn=None&ssid=6ec4nzbzio0000001691765356140&qH=1b57eea67220f216'"
      ]
     },
     "execution_count": 109,
     "metadata": {},
     "output_type": "execute_result"
    }
   ],
   "source": [
    "pdtlink"
   ]
  },
  {
   "cell_type": "code",
   "execution_count": 110,
   "id": "fb2be42a-892e-44b3-bdc2-dfeb7b1b6a68",
   "metadata": {},
   "outputs": [
    {
     "data": {
      "text/plain": [
       "'/apple-iphone-14-pro-space-black-128-gb/p/itm6e6711f2982c8?pid=MOBGHWFHZBHSYBBW&lid=LSTMOBGHWFHZBHSYBBWZRMCHS&marketplace=FLIPKART&q=iphone14pro&store=tyy%2F4io&srno=s_1_2&otracker=search&fm=organic&iid=be6b4d11-524a-42e9-882a-bb672746c7df.MOBGHWFHZBHSYBBW.SEARCH&ppt=None&ppn=None&ssid=6ec4nzbzio0000001691765356140&qH=1b57eea67220f216'"
      ]
     },
     "execution_count": 110,
     "metadata": {},
     "output_type": "execute_result"
    }
   ],
   "source": [
    "pdata"
   ]
  },
  {
   "cell_type": "code",
   "execution_count": 111,
   "id": "ceedda48-523a-4d21-8e03-30f3e038a8a2",
   "metadata": {},
   "outputs": [],
   "source": [
    "del bigBox[0:2]"
   ]
  },
  {
   "cell_type": "markdown",
   "id": "3fdfb26b-3328-449f-90cc-53227fca92af",
   "metadata": {},
   "source": [
    "for i in bigBox:\n",
    "    print(\"www.flipkart.com\"+i.div.div.div.a['href'])"
   ]
  },
  {
   "cell_type": "code",
   "execution_count": 112,
   "id": "39660ac3-bee1-4357-86d1-3629833152ef",
   "metadata": {},
   "outputs": [],
   "source": [
    "pdt_req=requests.get(pdtlink)"
   ]
  },
  {
   "cell_type": "code",
   "execution_count": 113,
   "id": "d630e147-31a6-43eb-bab7-7ce8bf74a02a",
   "metadata": {},
   "outputs": [
    {
     "data": {
      "text/plain": [
       "<Response [200]>"
      ]
     },
     "execution_count": 113,
     "metadata": {},
     "output_type": "execute_result"
    }
   ],
   "source": [
    "pdt_req"
   ]
  },
  {
   "cell_type": "code",
   "execution_count": 114,
   "id": "a936a23f-d8d9-4fc0-ace1-9a38f4cc9aad",
   "metadata": {},
   "outputs": [],
   "source": [
    "Ppdt=bs(pdt_req.text,'html.parser')"
   ]
  },
  {
   "cell_type": "code",
   "execution_count": 115,
   "id": "c3d019db-90b4-4475-8ba5-6cb1d74c2d6e",
   "metadata": {},
   "outputs": [],
   "source": [
    "allreview=Ppdt.findAll(\"div\",{\"class\":\"_16PBlm\"})"
   ]
  },
  {
   "cell_type": "code",
   "execution_count": 116,
   "id": "827dcca3-d6b5-423e-8c2f-600662f00960",
   "metadata": {},
   "outputs": [
    {
     "data": {
      "text/plain": [
       "11"
      ]
     },
     "execution_count": 116,
     "metadata": {},
     "output_type": "execute_result"
    }
   ],
   "source": [
    "len(allreview)"
   ]
  },
  {
   "cell_type": "code",
   "execution_count": 117,
   "id": "bf1499b4-3652-4ff3-a296-62a5e611bda7",
   "metadata": {},
   "outputs": [
    {
     "name": "stdout",
     "output_type": "stream",
     "text": [
      "Ashutosh Gupta\n",
      "Salman khan\n",
      "Pratik Raj\n",
      "Flipkart Customer\n",
      "Flipkart Customer\n",
      "Subham Roy\n",
      "Rishabh Srivastava\n",
      "Rohith Menon\n",
      "Dr Ch Ravi Shanker \n",
      "Flipkart Customer\n"
     ]
    },
    {
     "ename": "AttributeError",
     "evalue": "'NoneType' object has no attribute 'div'",
     "output_type": "error",
     "traceback": [
      "\u001b[0;31m---------------------------------------------------------------------------\u001b[0m",
      "\u001b[0;31mAttributeError\u001b[0m                            Traceback (most recent call last)",
      "Cell \u001b[0;32mIn[117], line 2\u001b[0m\n\u001b[1;32m      1\u001b[0m \u001b[38;5;28;01mfor\u001b[39;00m i \u001b[38;5;129;01min\u001b[39;00m allreview:\n\u001b[0;32m----> 2\u001b[0m     \u001b[38;5;28mprint\u001b[39m(\u001b[43mi\u001b[49m\u001b[38;5;241;43m.\u001b[39;49m\u001b[43mdiv\u001b[49m\u001b[38;5;241;43m.\u001b[39;49m\u001b[43mdiv\u001b[49m\u001b[38;5;241m.\u001b[39mfindAll(\u001b[38;5;124m\"\u001b[39m\u001b[38;5;124mp\u001b[39m\u001b[38;5;124m\"\u001b[39m,{\u001b[38;5;124m\"\u001b[39m\u001b[38;5;124mclass\u001b[39m\u001b[38;5;124m\"\u001b[39m:\u001b[38;5;124m\"\u001b[39m\u001b[38;5;124m_2sc7ZR _2V5EHH\u001b[39m\u001b[38;5;124m\"\u001b[39m})[\u001b[38;5;241m0\u001b[39m]\u001b[38;5;241m.\u001b[39mtext)\n",
      "\u001b[0;31mAttributeError\u001b[0m: 'NoneType' object has no attribute 'div'"
     ]
    }
   ],
   "source": [
    "for i in allreview:\n",
    "    print(i.div.div.findAll(\"p\",{\"class\":\"_2sc7ZR _2V5EHH\"})[0].text)"
   ]
  },
  {
   "cell_type": "code",
   "execution_count": 118,
   "id": "71490e67-6dd2-4edf-a127-238be1ea25bc",
   "metadata": {},
   "outputs": [
    {
     "name": "stdout",
     "output_type": "stream",
     "text": [
      "5\n",
      "5\n",
      "5\n",
      "5\n",
      "5\n",
      "5\n",
      "5\n",
      "5\n",
      "5\n",
      "5\n"
     ]
    },
    {
     "ename": "AttributeError",
     "evalue": "'NoneType' object has no attribute 'div'",
     "output_type": "error",
     "traceback": [
      "\u001b[0;31m---------------------------------------------------------------------------\u001b[0m",
      "\u001b[0;31mAttributeError\u001b[0m                            Traceback (most recent call last)",
      "Cell \u001b[0;32mIn[118], line 2\u001b[0m\n\u001b[1;32m      1\u001b[0m \u001b[38;5;28;01mfor\u001b[39;00m i \u001b[38;5;129;01min\u001b[39;00m allreview:\n\u001b[0;32m----> 2\u001b[0m     \u001b[38;5;28mprint\u001b[39m(\u001b[43mi\u001b[49m\u001b[38;5;241;43m.\u001b[39;49m\u001b[43mdiv\u001b[49m\u001b[38;5;241;43m.\u001b[39;49m\u001b[43mdiv\u001b[49m\u001b[38;5;241m.\u001b[39mdiv\u001b[38;5;241m.\u001b[39mdiv\u001b[38;5;241m.\u001b[39mtext)\n",
      "\u001b[0;31mAttributeError\u001b[0m: 'NoneType' object has no attribute 'div'"
     ]
    }
   ],
   "source": [
    "for i in allreview:\n",
    "    print(i.div.div.div.div.text)"
   ]
  },
  {
   "cell_type": "code",
   "execution_count": 119,
   "id": "3df75c13-375c-479f-a228-fab5801a4216",
   "metadata": {},
   "outputs": [
    {
     "name": "stdout",
     "output_type": "stream",
     "text": [
      "Great product\n",
      "Brilliant\n",
      "Best in the market!\n",
      "Worth every penny\n",
      "Highly recommended\n",
      "Must buy!\n",
      "Highly recommended\n",
      "Simply awesome\n",
      "Brilliant\n",
      "Brilliant\n"
     ]
    },
    {
     "ename": "AttributeError",
     "evalue": "'NoneType' object has no attribute 'div'",
     "output_type": "error",
     "traceback": [
      "\u001b[0;31m---------------------------------------------------------------------------\u001b[0m",
      "\u001b[0;31mAttributeError\u001b[0m                            Traceback (most recent call last)",
      "Cell \u001b[0;32mIn[119], line 2\u001b[0m\n\u001b[1;32m      1\u001b[0m \u001b[38;5;28;01mfor\u001b[39;00m i \u001b[38;5;129;01min\u001b[39;00m allreview:\n\u001b[0;32m----> 2\u001b[0m     \u001b[38;5;28mprint\u001b[39m(\u001b[43mi\u001b[49m\u001b[38;5;241;43m.\u001b[39;49m\u001b[43mdiv\u001b[49m\u001b[38;5;241;43m.\u001b[39;49m\u001b[43mdiv\u001b[49m\u001b[38;5;241m.\u001b[39mdiv\u001b[38;5;241m.\u001b[39mp\u001b[38;5;241m.\u001b[39mtext)\n",
      "\u001b[0;31mAttributeError\u001b[0m: 'NoneType' object has no attribute 'div'"
     ]
    }
   ],
   "source": [
    "for i in allreview:\n",
    "    print(i.div.div.div.p.text)"
   ]
  },
  {
   "cell_type": "code",
   "execution_count": 120,
   "id": "9040c607-32e3-4935-8ef9-f5f78698af91",
   "metadata": {},
   "outputs": [
    {
     "name": "stdout",
     "output_type": "stream",
     "text": [
      "Camera Awesome and overall mobile look is Cool\n",
      "Just WOW!! Best in all segment!!\n",
      "Superb performance and well.\n",
      "CAMERA IS SUPERB\n",
      "Excellent product awesome camera super fast\n",
      "Awesome 😎🍫🥰\n",
      "Just Awesome Best phone forever and Good Gaming Experience and Battery life .Specially Camera superb ❤️❤️❤️\n",
      "Best ❤️🔥🔥\n",
      "Awesome iPhone with best camera quality 48 megapixel is 👌\n",
      "My first iPhone.. And full satisfied..\n"
     ]
    },
    {
     "ename": "AttributeError",
     "evalue": "'NoneType' object has no attribute 'div'",
     "output_type": "error",
     "traceback": [
      "\u001b[0;31m---------------------------------------------------------------------------\u001b[0m",
      "\u001b[0;31mAttributeError\u001b[0m                            Traceback (most recent call last)",
      "Cell \u001b[0;32mIn[120], line 2\u001b[0m\n\u001b[1;32m      1\u001b[0m \u001b[38;5;28;01mfor\u001b[39;00m i \u001b[38;5;129;01min\u001b[39;00m allreview:\n\u001b[0;32m----> 2\u001b[0m     \u001b[38;5;28mprint\u001b[39m(\u001b[43mi\u001b[49m\u001b[38;5;241;43m.\u001b[39;49m\u001b[43mdiv\u001b[49m\u001b[38;5;241;43m.\u001b[39;49m\u001b[43mdiv\u001b[49m\u001b[38;5;241m.\u001b[39mfindAll(\u001b[38;5;124m\"\u001b[39m\u001b[38;5;124mdiv\u001b[39m\u001b[38;5;124m\"\u001b[39m,{\u001b[38;5;124m\"\u001b[39m\u001b[38;5;124mclass\u001b[39m\u001b[38;5;124m\"\u001b[39m:\u001b[38;5;124m\"\u001b[39m\u001b[38;5;124m\"\u001b[39m})[\u001b[38;5;241m0\u001b[39m]\u001b[38;5;241m.\u001b[39mdiv\u001b[38;5;241m.\u001b[39mtext)\n",
      "\u001b[0;31mAttributeError\u001b[0m: 'NoneType' object has no attribute 'div'"
     ]
    }
   ],
   "source": [
    "for i in allreview:\n",
    "    print(i.div.div.findAll(\"div\",{\"class\":\"\"})[0].div.text)"
   ]
  },
  {
   "cell_type": "code",
   "execution_count": null,
   "id": "7cf657fb-e29d-4105-ade9-4b41099e6035",
   "metadata": {},
   "outputs": [],
   "source": []
  },
  {
   "cell_type": "code",
   "execution_count": null,
   "id": "a250d7eb-1b8a-4ab8-b7dc-f6eda06c51ae",
   "metadata": {},
   "outputs": [],
   "source": []
  }
 ],
 "metadata": {
  "kernelspec": {
   "display_name": "Python 3 (ipykernel)",
   "language": "python",
   "name": "python3"
  },
  "language_info": {
   "codemirror_mode": {
    "name": "ipython",
    "version": 3
   },
   "file_extension": ".py",
   "mimetype": "text/x-python",
   "name": "python",
   "nbconvert_exporter": "python",
   "pygments_lexer": "ipython3",
   "version": "3.10.8"
  }
 },
 "nbformat": 4,
 "nbformat_minor": 5
}
